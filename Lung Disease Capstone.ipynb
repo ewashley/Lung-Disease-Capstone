{
 "cells": [
  {
   "cell_type": "code",
   "execution_count": 2,
   "id": "7ac102a3",
   "metadata": {},
   "outputs": [],
   "source": [
    "import pandas as pd\n",
    "import numpy as np\n",
    "import matplotlib.pyplot as plt\n",
    "import matplotlib.image as mpimg\n",
    "import seaborn as sns\n",
    "from PIL import Image\n",
    "from glob import glob\n",
    "import keras\n",
    "from keras.models import Sequential, Model,load_model\n",
    "from keras.layers import Activation,Dense, Dropout, Flatten, Conv2D, MaxPooling2D,MaxPool2D,AveragePooling2D,GlobalMaxPooling2D\n",
    "from keras import backend as K\n",
    "from keras.wrappers.scikit_learn import KerasClassifier\n",
    "from tensorflow.keras.layers import BatchNormalization\n",
    "from keras.utils.np_utils import to_categorical\n",
    "from keras import regularizers\n",
    "from keras.optimizers import Adam, SGD\n",
    "from keras.preprocessing.image import ImageDataGenerator\n",
    "from tensorflow.keras.utils import img_to_array\n",
    "from keras.callbacks import ReduceLROnPlateau, EarlyStopping,ModelCheckpoint\n",
    "from keras.metrics import PrecisionAtRecall,Recall \n",
    "\n",
    "import os\n",
    "import cv2\n",
    "\n",
    "from sklearn.metrics import confusion_matrix\n",
    "from sklearn.metrics import precision_recall_fscore_support, accuracy_score\n",
    "\n",
    "import tensorflow as tf"
   ]
  },
  {
   "cell_type": "code",
   "execution_count": 17,
   "id": "63183aee",
   "metadata": {},
   "outputs": [
    {
     "data": {
      "text/html": [
       "<div>\n",
       "<style scoped>\n",
       "    .dataframe tbody tr th:only-of-type {\n",
       "        vertical-align: middle;\n",
       "    }\n",
       "\n",
       "    .dataframe tbody tr th {\n",
       "        vertical-align: top;\n",
       "    }\n",
       "\n",
       "    .dataframe thead th {\n",
       "        text-align: right;\n",
       "    }\n",
       "</style>\n",
       "<table border=\"1\" class=\"dataframe\">\n",
       "  <thead>\n",
       "    <tr style=\"text-align: right;\">\n",
       "      <th></th>\n",
       "      <th>image_file</th>\n",
       "      <th>corona_result</th>\n",
       "      <th>path</th>\n",
       "    </tr>\n",
       "  </thead>\n",
       "  <tbody>\n",
       "    <tr>\n",
       "      <th>0</th>\n",
       "      <td>NORMAL/Normal-1.png</td>\n",
       "      <td>Negative</td>\n",
       "      <td>C:\\Users\\Ethan\\LUNG DISEASE CAPSTONE\\COVID-19_...</td>\n",
       "    </tr>\n",
       "    <tr>\n",
       "      <th>1</th>\n",
       "      <td>NORMAL/Normal-10.png</td>\n",
       "      <td>Negative</td>\n",
       "      <td>C:\\Users\\Ethan\\LUNG DISEASE CAPSTONE\\COVID-19_...</td>\n",
       "    </tr>\n",
       "    <tr>\n",
       "      <th>2</th>\n",
       "      <td>NORMAL/Normal-100.png</td>\n",
       "      <td>Negative</td>\n",
       "      <td>C:\\Users\\Ethan\\LUNG DISEASE CAPSTONE\\COVID-19_...</td>\n",
       "    </tr>\n",
       "    <tr>\n",
       "      <th>3</th>\n",
       "      <td>NORMAL/Normal-1000.png</td>\n",
       "      <td>Negative</td>\n",
       "      <td>C:\\Users\\Ethan\\LUNG DISEASE CAPSTONE\\COVID-19_...</td>\n",
       "    </tr>\n",
       "    <tr>\n",
       "      <th>4</th>\n",
       "      <td>NORMAL/Normal-10000.png</td>\n",
       "      <td>Negative</td>\n",
       "      <td>C:\\Users\\Ethan\\LUNG DISEASE CAPSTONE\\COVID-19_...</td>\n",
       "    </tr>\n",
       "    <tr>\n",
       "      <th>...</th>\n",
       "      <td>...</td>\n",
       "      <td>...</td>\n",
       "      <td>...</td>\n",
       "    </tr>\n",
       "    <tr>\n",
       "      <th>27611</th>\n",
       "      <td>COVID/COVID-995.png</td>\n",
       "      <td>Positive</td>\n",
       "      <td>C:\\Users\\Ethan\\LUNG DISEASE CAPSTONE\\COVID-19_...</td>\n",
       "    </tr>\n",
       "    <tr>\n",
       "      <th>27612</th>\n",
       "      <td>COVID/COVID-996.png</td>\n",
       "      <td>Positive</td>\n",
       "      <td>C:\\Users\\Ethan\\LUNG DISEASE CAPSTONE\\COVID-19_...</td>\n",
       "    </tr>\n",
       "    <tr>\n",
       "      <th>27613</th>\n",
       "      <td>COVID/COVID-997.png</td>\n",
       "      <td>Positive</td>\n",
       "      <td>C:\\Users\\Ethan\\LUNG DISEASE CAPSTONE\\COVID-19_...</td>\n",
       "    </tr>\n",
       "    <tr>\n",
       "      <th>27614</th>\n",
       "      <td>COVID/COVID-998.png</td>\n",
       "      <td>Positive</td>\n",
       "      <td>C:\\Users\\Ethan\\LUNG DISEASE CAPSTONE\\COVID-19_...</td>\n",
       "    </tr>\n",
       "    <tr>\n",
       "      <th>27615</th>\n",
       "      <td>COVID/COVID-999.png</td>\n",
       "      <td>Positive</td>\n",
       "      <td>C:\\Users\\Ethan\\LUNG DISEASE CAPSTONE\\COVID-19_...</td>\n",
       "    </tr>\n",
       "  </tbody>\n",
       "</table>\n",
       "<p>27616 rows × 3 columns</p>\n",
       "</div>"
      ],
      "text/plain": [
       "                    image_file corona_result  \\\n",
       "0          NORMAL/Normal-1.png      Negative   \n",
       "1         NORMAL/Normal-10.png      Negative   \n",
       "2        NORMAL/Normal-100.png      Negative   \n",
       "3       NORMAL/Normal-1000.png      Negative   \n",
       "4      NORMAL/Normal-10000.png      Negative   \n",
       "...                        ...           ...   \n",
       "27611      COVID/COVID-995.png      Positive   \n",
       "27612      COVID/COVID-996.png      Positive   \n",
       "27613      COVID/COVID-997.png      Positive   \n",
       "27614      COVID/COVID-998.png      Positive   \n",
       "27615      COVID/COVID-999.png      Positive   \n",
       "\n",
       "                                                    path  \n",
       "0      C:\\Users\\Ethan\\LUNG DISEASE CAPSTONE\\COVID-19_...  \n",
       "1      C:\\Users\\Ethan\\LUNG DISEASE CAPSTONE\\COVID-19_...  \n",
       "2      C:\\Users\\Ethan\\LUNG DISEASE CAPSTONE\\COVID-19_...  \n",
       "3      C:\\Users\\Ethan\\LUNG DISEASE CAPSTONE\\COVID-19_...  \n",
       "4      C:\\Users\\Ethan\\LUNG DISEASE CAPSTONE\\COVID-19_...  \n",
       "...                                                  ...  \n",
       "27611  C:\\Users\\Ethan\\LUNG DISEASE CAPSTONE\\COVID-19_...  \n",
       "27612  C:\\Users\\Ethan\\LUNG DISEASE CAPSTONE\\COVID-19_...  \n",
       "27613  C:\\Users\\Ethan\\LUNG DISEASE CAPSTONE\\COVID-19_...  \n",
       "27614  C:\\Users\\Ethan\\LUNG DISEASE CAPSTONE\\COVID-19_...  \n",
       "27615  C:\\Users\\Ethan\\LUNG DISEASE CAPSTONE\\COVID-19_...  \n",
       "\n",
       "[27616 rows x 3 columns]"
      ]
     },
     "execution_count": 17,
     "metadata": {},
     "output_type": "execute_result"
    }
   ],
   "source": [
    "\n",
    "path = r\"C:\\Users\\Ethan\\LUNG DISEASE CAPSTONE\\COVID-19_Radiography_Dataset\"\n",
    "data_dir = os.path.join(path)\n",
    "data = []\n",
    "levels = ['NORMAL', 'COVID']\n",
    "sublevels= ['images', 'masks']\n",
    "for id, level in enumerate(levels):\n",
    "    for id, sublevel in enumerate(sublevels):\n",
    "        for file in os.listdir(os.path.join(data_dir, level, sublevel)):\n",
    "            data.append(['{}/{}'.format(level, file), level]) \n",
    "\n",
    "\n",
    "data = pd.DataFrame(data, columns = ['image_file', 'corona_result'])\n",
    "\n",
    "data['path'] = path + '/' + data['image_file']\n",
    "data['corona_result'] = data['corona_result'].map({'NORMAL': 'Negative', 'COVID': 'Positive'})\n",
    "samples = 13808\n",
    "\n",
    "data"
   ]
  },
  {
   "cell_type": "code",
   "execution_count": 19,
   "id": "16a73fc9",
   "metadata": {},
   "outputs": [
    {
     "data": {
      "text/plain": [
       "Text(0, 0.5, 'Count')"
      ]
     },
     "execution_count": 19,
     "metadata": {},
     "output_type": "execute_result"
    },
    {
     "data": {
      "image/png": "[encoded data removed]",
      "text/plain": [
       "<Figure size 432x288 with 1 Axes>"
      ]
     },
     "metadata": {
      "needs_background": "light"
     },
     "output_type": "display_data"
    }
   ],
   "source": [
    "sns.countplot(data=data,x='corona_result' , palette=['blue','red']);\n",
    "plt.title('Positivity Rate')\n",
    "plt.xlabel('Status')\n",
    "plt.ylabel('Count')"
   ]
  },
  {
   "cell_type": "code",
   "execution_count": null,
   "id": "0c434c3f",
   "metadata": {},
   "outputs": [],
   "source": []
  }
 ],
 "metadata": {
  "kernelspec": {
   "display_name": "Python 3 (ipykernel)",
   "language": "python",
   "name": "python3"
  },
  "language_info": {
   "codemirror_mode": {
    "name": "ipython",
    "version": 3
   },
   "file_extension": ".py",
   "mimetype": "text/x-python",
   "name": "python",
   "nbconvert_exporter": "python",
   "pygments_lexer": "ipython3",
   "version": "3.9.12"
  }
 },
 "nbformat": 4,
 "nbformat_minor": 5
}
